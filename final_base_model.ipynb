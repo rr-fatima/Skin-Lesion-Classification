{
  "nbformat": 4,
  "nbformat_minor": 0,
  "metadata": {
    "colab": {
      "provenance": [],
      "machine_shape": "hm",
      "gpuType": "L4"
    },
    "kernelspec": {
      "name": "python3",
      "display_name": "Python 3"
    },
    "language_info": {
      "name": "python"
    },
    "accelerator": "GPU"
  },
  "cells": [
    {
      "cell_type": "markdown",
      "source": [
        "# Data Processing"
      ],
      "metadata": {
        "id": "naBlqrqlOXt7"
      }
    },
    {
      "cell_type": "code",
      "execution_count": null,
      "metadata": {
        "collapsed": true,
        "id": "WBrH5kBqRLa6",
        "jupyter": {
          "outputs_hidden": true
        }
      },
      "outputs": [],
      "source": [
        "# Core libraries\n",
        "import os\n",
        "import glob\n",
        "import time\n",
        "import random\n",
        "import shutil\n",
        "\n",
        "# Data handling\n",
        "import numpy as np\n",
        "import pandas as pd\n",
        "\n",
        "# Visualization\n",
        "import matplotlib.pyplot as plt\n",
        "from PIL import Image\n",
        "\n",
        "# PyTorch\n",
        "import torch\n",
        "import torch.nn as nn\n",
        "import torch.nn.functional as F\n",
        "import torch.optim as optim\n",
        "from torch.utils.data import DataLoader, Dataset, Subset, SubsetRandomSampler\n",
        "import torchvision\n",
        "from torchvision import datasets, transforms, models\n",
        "from torchvision.datasets import ImageFolder\n",
        "\n",
        "# Scikit-learn\n",
        "from sklearn.model_selection import train_test_split\n",
        "from sklearn.svm import SVC\n",
        "from sklearn.metrics import accuracy_score\n",
        "\n",
        "# Saving models\n",
        "import joblib  # for saving the best SVM model\n",
        "\n",
        "# Device\n",
        "device = torch.device(\"cuda\" if torch.cuda.is_available() else \"cpu\")\n"
      ]
    },
    {
      "cell_type": "code",
      "source": [
        "from google.colab import drive\n",
        "drive.mount('/content/gdrive')"
      ],
      "metadata": {
        "colab": {
          "base_uri": "https://localhost:8080/"
        },
        "id": "Yh2oKa6qTyUc",
        "outputId": "ed0db7f9-3d3f-4c46-983a-6738150b94f1"
      },
      "execution_count": null,
      "outputs": [
        {
          "output_type": "stream",
          "name": "stdout",
          "text": [
            "Drive already mounted at /content/gdrive; to attempt to forcibly remount, call drive.mount(\"/content/gdrive\", force_remount=True).\n"
          ]
        }
      ]
    },
    {
      "cell_type": "code",
      "source": [
        "\n",
        "base_path = '/content/gdrive/MyDrive/APS360_SkinCancer_Dataset'\n",
        "training_path = os.path.join(base_path, 'ISIC_2019_Training_Input')\n"
      ],
      "metadata": {
        "id": "LSR7sUFUulQS"
      },
      "execution_count": null,
      "outputs": []
    },
    {
      "cell_type": "code",
      "source": [
        "# Image size for EfficientNetB2\n",
        "IMAGE_SIZE = (260, 260)\n",
        "\n",
        "# Image preprocessing function\n",
        "def preprocess_image(image_path, image_size=IMAGE_SIZE):\n",
        "    image = Image.open(image_path).convert('RGB')\n",
        "    image = image.resize(image_size)\n",
        "    image_array = np.array(image) / 255.0\n",
        "    return image_array\n",
        "\n",
        "# Step 1: Get all image paths\n",
        "all_image_paths = glob.glob(os.path.join(training_path, '*.jpg'))\n",
        "\n",
        "print(f\"Total images found: {len(all_image_paths)}\")"
      ],
      "metadata": {
        "id": "Yquwv6xiEzNC",
        "colab": {
          "base_uri": "https://localhost:8080/"
        },
        "outputId": "204f50aa-dfe2-40c1-ae88-54ff838a808c"
      },
      "execution_count": null,
      "outputs": [
        {
          "output_type": "stream",
          "name": "stdout",
          "text": [
            "Total images found: 21237\n"
          ]
        }
      ]
    },
    {
      "cell_type": "code",
      "source": [
        "\n",
        "# Path to metadata CSV (update if needed)\n",
        "metadata_path = \"/content/gdrive/MyDrive/APS360_SkinCancer_Dataset/ISIC_2019_Training_GroundTruth.csv\"\n",
        "\n",
        "#Load GroundTruth and convert to single label\n",
        "df = pd.read_csv(metadata_path)\n",
        "\n",
        "# Columns in ISIC 2019 GT\n",
        "classes = ['MEL', 'NV', 'BCC', 'AK', 'BKL', 'DF', 'VASC', 'SCC', 'UNK']\n",
        "\n",
        "# Make filename column\n",
        "df['filename'] = df['image'].astype(str) + '.jpg'\n",
        "\n",
        "# Ensures each row has atleast one positive\n",
        "df['label_str'] = df[classes].idxmax(axis=1)\n",
        "\n",
        "# Create encoders\n",
        "label_mapping = {c: i for i, c in enumerate(classes)}\n",
        "index_to_label = {i: c for c, i in label_mapping.items()}\n",
        "df['label'] = df['label_str'].map(label_mapping)\n",
        "\n",
        "# Keep files that are only present in image folder\n",
        "all_image_paths = glob.glob(os.path.join(training_path, '*.jpg'))\n",
        "name_to_path = {os.path.basename(p): p for p in all_image_paths}\n",
        "df = df[df['filename'].isin(name_to_path.keys())].reset_index(drop=True)\n",
        "\n"
      ],
      "metadata": {
        "id": "xrEgRIkGFQsc"
      },
      "execution_count": null,
      "outputs": []
    },
    {
      "cell_type": "code",
      "source": [
        "# Split training, validation and testing in ratio 70:15:15\n",
        "from sklearn.model_selection import train_test_split\n",
        "\n",
        "train_df, temp_df = train_test_split(\n",
        "    df, test_size=0.30, random_state=36, stratify=df['label']\n",
        ")\n",
        "val_df, test_df = train_test_split(\n",
        "    temp_df, test_size=0.50, random_state=36, stratify=temp_df['label']\n",
        ")\n",
        "\n",
        "print(\"Split sizes:\", len(train_df), len(val_df), len(test_df))\n"
      ],
      "metadata": {
        "colab": {
          "base_uri": "https://localhost:8080/"
        },
        "id": "pEJDOwSSKmAx",
        "outputId": "6038dcc0-d85c-4364-bb3b-db6d03782d1e"
      },
      "execution_count": null,
      "outputs": [
        {
          "output_type": "stream",
          "name": "stdout",
          "text": [
            "Split sizes: 14584 3125 3126\n"
          ]
        }
      ]
    },
    {
      "cell_type": "code",
      "source": [
        "# Checks the imbalance if classes before applying augmentation\n",
        "classes = ['MEL', 'NV', 'BCC', 'AK', 'BKL', 'DF', 'VASC', 'SCC', 'UNK']\n",
        "before_counts = train_df['label_str'].value_counts().reindex(classes, fill_value=0)\n",
        "print(\"Train class counts BEFORE augmentation:\\n\", before_counts)\n",
        "\n",
        "# Plots the imbalance\n",
        "plt.figure(figsize=(10,4))\n",
        "plt.bar(before_counts.index, before_counts.values)\n",
        "plt.title(\"Train Class Counts - BEFORE Augmentation\")\n",
        "plt.xlabel(\"Class\")\n",
        "plt.ylabel(\"Count\")\n",
        "plt.xticks(rotation=45)\n",
        "plt.show()"
      ],
      "metadata": {
        "colab": {
          "base_uri": "https://localhost:8080/",
          "height": 652
        },
        "id": "HurGfoIhP1No",
        "outputId": "eb4b4cd3-26d4-43f6-80af-ccfb375745e4"
      },
      "execution_count": null,
      "outputs": [
        {
          "output_type": "stream",
          "name": "stdout",
          "text": [
            "Train class counts BEFORE augmentation:\n",
            " label_str\n",
            "MEL     2573\n",
            "NV      7534\n",
            "BCC     1839\n",
            "AK       484\n",
            "BKL     1522\n",
            "DF       135\n",
            "VASC     140\n",
            "SCC      357\n",
            "UNK        0\n",
            "Name: count, dtype: int64\n"
          ]
        },
        {
          "output_type": "display_data",
          "data": {
            "text/plain": [
              "<Figure size 1000x400 with 1 Axes>"
            ],
            "image/png": "[encoded data removed]"
          },
          "metadata": {}
        }
      ]
    },
    {
      "cell_type": "code",
      "source": [
        "\n",
        "from torchvision import transforms\n",
        "\n",
        "# Transformation without augmentation to be applied on validation and testing\n",
        "eval_tfms = transforms.Compose([\n",
        "    transforms.Resize((224, 224)),        # Resize to ResNet size\n",
        "    transforms.ToTensor(),                 # Convert to tensor\n",
        "    transforms.Normalize(\n",
        "        mean=[0.485, 0.456, 0.406],       # ImageNet mean\n",
        "        std=[0.229, 0.224, 0.225]         # ImageNet std\n",
        "    )\n",
        "])\n",
        "\n",
        "# Transformation with randomn augmentation to be applied on training\n",
        "transform_train_aug = transforms.Compose([\n",
        "    transforms.Resize((256, 256)),\n",
        "    transforms.RandomResizedCrop(224, scale=(0.9, 1.0), ratio=(0.95, 1.05)),\n",
        "    transforms.RandomHorizontalFlip(p=0.5),\n",
        "    transforms.RandomVerticalFlip(p=0.5),\n",
        "    transforms.RandomRotation(degrees=180),\n",
        "    transforms.ColorJitter(brightness=0.08, contrast=0.08, saturation=0.04, hue=0.02),\n",
        "    transforms.ToTensor(),\n",
        "    transforms.Normalize(mean=[0.485, 0.456, 0.406],\n",
        "                         std=[0.229, 0.224, 0.225]),\n",
        "    transforms.RandomErasing(p=0.2, scale=(0.01, 0.04), ratio=(0.3, 3.0)),\n",
        "])\n",
        "\n",
        "\n",
        "# Class for making Datasets\n",
        "class ImagePathDataset(Dataset):\n",
        "\n",
        "    def __init__(self, df_split, name_to_path, transform=None):\n",
        "\n",
        "        self.transform = transform\n",
        "        self.items = []\n",
        "        for _, row in df_split.iterrows():\n",
        "            fn = row['filename']\n",
        "            if fn in name_to_path:\n",
        "                self.items.append((name_to_path[fn], int(row['label'])))\n",
        "\n",
        "    #Called by DataLoader function\n",
        "    def __len__(self):\n",
        "        return len(self.items)\n",
        "\n",
        "\n",
        "    #Called by DataLoader function\n",
        "    def __getitem__(self, idx):\n",
        "        path, label = self.items[idx]\n",
        "        try:\n",
        "            img = Image.open(path).convert('RGB')\n",
        "        except Exception:\n",
        "            # Replace with black image if the image is corrupted\n",
        "            img = Image.new('RGB', (224, 224), (0, 0, 0))\n",
        "        if self.transform:\n",
        "            img = self.transform(img)\n",
        "        return img, torch.tensor(label, dtype=torch.long)\n",
        "\n",
        "\n"
      ],
      "metadata": {
        "id": "8tCP1SAQK1K1"
      },
      "execution_count": null,
      "outputs": []
    },
    {
      "cell_type": "code",
      "source": [
        "\n",
        "# Oversample minority classes to match majority count\n",
        "import numpy as np\n",
        "\n",
        "# Count by class name in a dictionary\n",
        "counts_by_class = train_df['label_str'].value_counts().to_dict()\n",
        "majority_count = max(counts_by_class.values())\n",
        "target = int(0.8 * majority_count)   # PPROXIMtely balance the classees\n",
        "\n",
        "balanced_parts = [] #Holds balanced data for each class\n",
        "\n",
        "rng = np.random.default_rng(36)\n",
        "\n",
        "for cls in classes:\n",
        "    cls_df = train_df[train_df['label_str'] == cls]\n",
        "    n = len(cls_df) #Count number of samples for each class\n",
        "    if n == 0:\n",
        "        continue\n",
        "    if n < target:\n",
        "        # if class has less samples than oversample by duplicating\n",
        "        idx = rng.choice(cls_df.index.values, size=target, replace=True)\n",
        "        balanced_parts.append(cls_df.loc[idx])\n",
        "    else:\n",
        "        balanced_parts.append(cls_df)\n",
        "\n",
        "balanced_train_df = pd.concat(balanced_parts, axis=0).sample(frac=1.0, random_state=36).reset_index(drop=True)\n",
        "\n"
      ],
      "metadata": {
        "id": "Wb-wZSHI0PX3"
      },
      "execution_count": null,
      "outputs": []
    },
    {
      "cell_type": "code",
      "source": [
        "\n",
        "# Check the number of samples in each class after oversmapling to check if they are balanced\n",
        "after_counts = balanced_train_df['label_str'].value_counts().reindex(classes, fill_value=0)\n",
        "print(\"\\nTrain class counts AFTER augmentation-oversampling (by file copies):\\n\", after_counts)\n",
        "\n",
        "# Quick bar plot\n",
        "plt.figure(figsize=(10,4))\n",
        "plt.bar(after_counts.index, after_counts.values)\n",
        "plt.title(\"Train Class Counts - AFTER Augmentation Balancing\")\n",
        "plt.xlabel(\"Class\")\n",
        "plt.ylabel(\"Count\")\n",
        "plt.xticks(rotation=45)\n",
        "plt.show()"
      ],
      "metadata": {
        "colab": {
          "base_uri": "https://localhost:8080/",
          "height": 671
        },
        "id": "pacLC8Uh0Uh0",
        "outputId": "31bd0b5d-eda3-4c32-955b-512ad10622a0"
      },
      "execution_count": null,
      "outputs": [
        {
          "output_type": "stream",
          "name": "stdout",
          "text": [
            "\n",
            "Train class counts AFTER augmentation-oversampling (by file copies):\n",
            " label_str\n",
            "MEL     6027\n",
            "NV      7534\n",
            "BCC     6027\n",
            "AK      6027\n",
            "BKL     6027\n",
            "DF      6027\n",
            "VASC    6027\n",
            "SCC     6027\n",
            "UNK        0\n",
            "Name: count, dtype: int64\n"
          ]
        },
        {
          "output_type": "display_data",
          "data": {
            "text/plain": [
              "<Figure size 1000x400 with 1 Axes>"
            ],
            "image/png": "[encoded data removed]"
          },
          "metadata": {}
        }
      ]
    },
    {
      "cell_type": "code",
      "source": [
        "# Information for making Data Loaders\n",
        "BATCH_SIZE   = 32\n",
        "NUM_WORKERS  = 4\n",
        "PIN_MEMORY   = True\n",
        "\n",
        "\n",
        "# Rebuild Datasets and then Dataloaders. Use augmented transforms for training only\n",
        "train_ds_bal = ImagePathDataset(balanced_train_df, name_to_path, transform=transform_train_aug)\n",
        "val_ds       = ImagePathDataset(val_df,       name_to_path, transform=eval_tfms)\n",
        "test_ds      = ImagePathDataset(test_df,      name_to_path, transform=eval_tfms)\n",
        "\n",
        "train_loader = DataLoader(train_ds_bal, batch_size=BATCH_SIZE, shuffle=True,\n",
        "                          num_workers=NUM_WORKERS, pin_memory=PIN_MEMORY)\n",
        "val_loader   = DataLoader(val_ds,     batch_size=BATCH_SIZE, shuffle=False,\n",
        "                          num_workers=NUM_WORKERS, pin_memory=PIN_MEMORY)\n",
        "test_loader  = DataLoader(test_ds,    batch_size=BATCH_SIZE, shuffle=False,\n",
        "                          num_workers=NUM_WORKERS, pin_memory=PIN_MEMORY)\n",
        "\n",
        "print(\"\\nBatches after balancing (train/val/test):\", len(train_loader), len(val_loader), len(test_loader))\n"
      ],
      "metadata": {
        "colab": {
          "base_uri": "https://localhost:8080/"
        },
        "id": "YnA7SHxpzw-0",
        "outputId": "8ce6f4ba-129c-4850-fe39-08c9e563fa9b"
      },
      "execution_count": null,
      "outputs": [
        {
          "output_type": "stream",
          "name": "stdout",
          "text": [
            "\n",
            "Batches after balancing (train/val/test): 1554 98 98\n"
          ]
        }
      ]
    },
    {
      "cell_type": "markdown",
      "source": [
        "# Model Processing"
      ],
      "metadata": {
        "id": "uvNPUAXFNfQF"
      }
    },
    {
      "cell_type": "code",
      "source": [
        "resnet = torchvision.models.resnet18(pretrained=True)\n",
        "\n",
        "resnet.eval()\n",
        "\n",
        "# Remove the last fully connected layer\n",
        "feature_extractor = nn.Sequential(*list(resnet.children())[:-1])\n",
        "feature_extractor = feature_extractor.to(device)\n",
        "\n",
        "\n",
        "#This function is for extracting the features from the data given\n",
        "def save_features(dataloader):\n",
        "  all_features = []  # store feature tensors\n",
        "  all_labels = []    # store labels\n",
        "  n =0\n",
        "\n",
        "  with torch.no_grad():\n",
        "      for images, labels in dataloader:\n",
        "          # Move them to either cpu or cuda depending on the runtime type\n",
        "          images = images.to(device)\n",
        "          labels = labels.to(device)\n",
        "\n",
        "          # Extract features\n",
        "          feats = feature_extractor(images)\n",
        "          feats = feats.view(feats.size(0), -1)\n",
        "\n",
        "          all_features.append(feats.cpu())\n",
        "          all_labels.append(labels.cpu())\n",
        "\n",
        "          #Keep track of the excution\n",
        "          n=n+1\n",
        "          print(\"Done \", n)\n",
        "\n",
        "  #concatenates multiple tensors\n",
        "  return torch.cat(all_features), torch.cat(all_labels)\n",
        "\n"
      ],
      "metadata": {
        "colab": {
          "base_uri": "https://localhost:8080/"
        },
        "id": "pjdpqgWyUlW0",
        "outputId": "b5113ddd-563b-446a-b5fd-894436a59538"
      },
      "execution_count": null,
      "outputs": [
        {
          "output_type": "stream",
          "name": "stderr",
          "text": [
            "/usr/local/lib/python3.11/dist-packages/torchvision/models/_utils.py:208: UserWarning: The parameter 'pretrained' is deprecated since 0.13 and may be removed in the future, please use 'weights' instead.\n",
            "  warnings.warn(\n",
            "/usr/local/lib/python3.11/dist-packages/torchvision/models/_utils.py:223: UserWarning: Arguments other than a weight enum or `None` for 'weights' are deprecated since 0.13 and may be removed in the future. The current behavior is equivalent to passing `weights=ResNet18_Weights.IMAGENET1K_V1`. You can also use `weights=ResNet18_Weights.DEFAULT` to get the most up-to-date weights.\n",
            "  warnings.warn(msg)\n"
          ]
        }
      ]
    },
    {
      "cell_type": "code",
      "source": [
        "print(device) #check the device being used"
      ],
      "metadata": {
        "colab": {
          "base_uri": "https://localhost:8080/"
        },
        "id": "_8o_Oqpd8AC7",
        "outputId": "469903b2-6761-4b49-bf22-93d59af9e5a1"
      },
      "execution_count": null,
      "outputs": [
        {
          "output_type": "stream",
          "name": "stdout",
          "text": [
            "cuda\n"
          ]
        }
      ]
    },
    {
      "cell_type": "code",
      "source": [
        "\n",
        "#Extract features\n",
        "features_train, labels_train = save_features(train_loader)"
      ],
      "metadata": {
        "collapsed": true,
        "id": "dT8eP0jYoRBx"
      },
      "execution_count": null,
      "outputs": []
    },
    {
      "cell_type": "code",
      "source": [
        "#Save extracted features to a file\n",
        "torch.save({\n",
        "    'features': features_train,\n",
        "    'labels': labels_train\n",
        "}, '/content/gdrive/MyDrive/APS360_SkinCancer_Dataset/Processed_Final_BaseLine_Data/train_features.pt')\n",
        "\n",
        "print(\"Saved train features to Google Drive!\")"
      ],
      "metadata": {
        "id": "_GtTeQHAlYIk"
      },
      "execution_count": null,
      "outputs": []
    },
    {
      "cell_type": "code",
      "source": [
        "\n",
        "#Extract features\n",
        "features_val, labels_val = save_features(val_loader)\n",
        "\n",
        "#Save extracted features to a file\n",
        "torch.save({\n",
        "    'features': features_val,\n",
        "    'labels': labels_val\n",
        "}, '/content/gdrive/MyDrive/APS360_SkinCancer_Dataset/Processed_Final_BaseLine_Data/val_features.pt')\n",
        "\n",
        "print(\"Saved validation features to Google Drive!\")\n"
      ],
      "metadata": {
        "id": "VohuCvgiB79j"
      },
      "execution_count": null,
      "outputs": []
    },
    {
      "cell_type": "code",
      "source": [
        "\n",
        "#Extract features\n",
        "features_test, labels_test = save_features(test_loader)\n",
        "\n",
        "#Save extracted features to a file\n",
        "torch.save({\n",
        "    'features': features_test,\n",
        "    'labels': labels_test\n",
        "}, '/content/gdrive/MyDrive/APS360_SkinCancer_Dataset/Processed_Final_BaseLine_Data/test_features.pt')\n",
        "\n",
        "print(\"Saved testing features to Google Drive!\")\n"
      ],
      "metadata": {
        "id": "zFjVX5mWCO5-"
      },
      "execution_count": null,
      "outputs": []
    },
    {
      "cell_type": "code",
      "source": [
        "from sklearn.svm import LinearSVC\n",
        "from sklearn.preprocessing import StandardScaler\n",
        "from sklearn.pipeline import make_pipeline\n",
        "import numpy as np\n",
        "import joblib\n",
        "\n",
        "def train_svm_linear(features_train, labels_train, features_val, labels_val, features_test, labels_test,\n",
        "                     C_values=(0.01, 0.1, 1, 10, 100), max_iter=20000):\n",
        "\n",
        "    # Convert PyTorch tensors to NumPy arrays (ensure CPU)\n",
        "    X_train = features_train.cpu().numpy()\n",
        "    y_train = labels_train.cpu().numpy()\n",
        "    X_val   = features_val.cpu().numpy()\n",
        "    y_val   = labels_val.cpu().numpy()\n",
        "    X_test  = features_test.cpu().numpy()\n",
        "    y_test  = labels_test.cpu().numpy()\n",
        "\n",
        "    # Merge training and validation sets for final better retraining\n",
        "    X_train_full = np.concatenate([X_train, X_val], axis=0)\n",
        "    y_train_full = np.concatenate([y_train, y_val], axis=0)\n",
        "\n",
        "    print(f\"Train size: {len(X_train)} | Val: {len(X_val)} | Test: {len(X_test)}\")\n",
        "\n",
        "    # Hyperparameter search over C values using validation accuracy\n",
        "    best_acc, best_C = -1.0, None\n",
        "    for C in C_values:\n",
        "        clf = make_pipeline(\n",
        "            StandardScaler(with_mean=True, with_std=True),          # Normalize features\n",
        "            LinearSVC(C=C, class_weight='balanced', max_iter=max_iter)  # Balanced class weights\n",
        "        )\n",
        "        clf.fit(X_train, y_train)                                   # Train on training set\n",
        "        acc = clf.score(X_val, y_val)                               # Evaluate on validation set\n",
        "        print(f\"C={C} | Val Acc={acc:.4f}\")\n",
        "        if acc > best_acc:                                          # Track best C\n",
        "            best_acc, best_C = acc, C\n",
        "\n",
        "    print(f\"[LinearSVC] Best C={best_C} (Val Acc={best_acc:.4f})\")\n",
        "\n",
        "    # Retrain on combined training and validation data with best C\n",
        "    svm_model_final = make_pipeline(\n",
        "        StandardScaler(with_mean=True, with_std=True),\n",
        "        LinearSVC(C=best_C, class_weight='balanced', max_iter=max_iter)\n",
        "    )\n",
        "    svm_model_final.fit(X_train_full, y_train_full)\n",
        "\n",
        "    # Final evaluation on the test set\n",
        "    test_acc = svm_model_final.score(X_test, y_test)\n",
        "    print(f\"[LinearSVC] Final Test Accuracy: {test_acc:.4f}\")\n",
        "\n",
        "    # Save model to disk for reuse\n",
        "    joblib.dump(svm_model_final, 'best_linear_svm.pkl')\n",
        "\n",
        "    return svm_model_final, test_acc\n"
      ],
      "metadata": {
        "id": "4ngvLewAyGX9"
      },
      "execution_count": null,
      "outputs": []
    },
    {
      "cell_type": "code",
      "source": [
        "# Linear\n",
        "linear_model, linear_test_acc = train_svm_linear(\n",
        "    train_features, train_labels, val_features, val_labels, test_features, test_labels\n",
        ")"
      ],
      "metadata": {
        "colab": {
          "base_uri": "https://localhost:8080/"
        },
        "id": "BzXgiGbhO5sB",
        "outputId": "94e55fea-52ac-4fb6-cf23-c1c541f71502"
      },
      "execution_count": null,
      "outputs": [
        {
          "output_type": "stream",
          "name": "stdout",
          "text": [
            "Train size: 49723 | Val: 3125 | Test: 3126\n",
            "C=0.01 | Val Acc=0.4922\n",
            "C=0.1 | Val Acc=0.4928\n",
            "C=1 | Val Acc=0.4925\n",
            "C=10 | Val Acc=0.4925\n",
            "C=100 | Val Acc=0.4925\n",
            "[LinearSVC] Best C=0.1 (Val Acc=0.4928)\n",
            "[LinearSVC] Final Test Accuracy: 0.6056\n"
          ]
        }
      ]
    },
    {
      "cell_type": "markdown",
      "source": [
        "Save the model to Drive to be reused later"
      ],
      "metadata": {
        "id": "AvGoadaNwDF3"
      }
    },
    {
      "cell_type": "code",
      "source": [
        "!mkdir -p '/content/gdrive/MyDrive/APS360_SkinCancer_Dataset/Processed_Final_BaseLine_Data/Baseline_Model_2'\n"
      ],
      "metadata": {
        "id": "NlsJB5h_T7O-"
      },
      "execution_count": null,
      "outputs": []
    },
    {
      "cell_type": "code",
      "source": [
        "!cp /content/best_linear_svm.pkl '/content/gdrive/MyDrive/APS360_SkinCancer_Dataset/Processed_Final_BaseLine_Data/Baseline_Model'"
      ],
      "metadata": {
        "id": "SJDCskHoURpv"
      },
      "execution_count": null,
      "outputs": []
    },
    {
      "cell_type": "markdown",
      "source": [
        "### Reloads the final svm model that was saved in the drive\n",
        "\n"
      ],
      "metadata": {
        "id": "HTsGlajxwlEG"
      }
    },
    {
      "cell_type": "code",
      "source": [
        "model_path = '/content/gdrive/MyDrive/APS360_SkinCancer_Dataset/Processed_Final_BaseLine_Data/Baseline_Model/best_linear_svm.pkl'\n",
        "\n",
        "final_svm = joblib.load(model_path)\n"
      ],
      "metadata": {
        "id": "mgGq2edB54F3"
      },
      "execution_count": null,
      "outputs": []
    },
    {
      "cell_type": "markdown",
      "source": [
        "### Reloads the features extracted from RESNET-18 and were saved in the drive"
      ],
      "metadata": {
        "id": "NUmr_nT9wK9t"
      }
    },
    {
      "cell_type": "code",
      "source": [
        "\n",
        "# For training set features extracted from ResNet\n",
        "train_data = torch.load('/content/gdrive/MyDrive/APS360_SkinCancer_Dataset/Processed_Final_BaseLine_Data/train_features.pt')\n",
        "\n",
        "# Get the tensors\n",
        "train_features = train_data['features']\n",
        "train_labels = train_data['labels']\n",
        "\n",
        "# For validation set features extracted from ResNet\n",
        "val_data = torch.load('/content/gdrive/MyDrive/APS360_SkinCancer_Dataset/Processed_Final_BaseLine_Data/val_features.pt')\n",
        "\n",
        "# Get the tensors\n",
        "val_features = val_data['features']\n",
        "val_labels = val_data['labels']\n",
        "\n",
        "# For testing set features extracted from ResNet\n",
        "test_data = torch.load('/content/gdrive/MyDrive/APS360_SkinCancer_Dataset/Processed_Final_BaseLine_Data/test_features.pt')\n",
        "\n",
        "# Get the tensors\n",
        "test_features = test_data['features']\n",
        "test_labels = test_data['labels']"
      ],
      "metadata": {
        "id": "hAs924uO8gJ2"
      },
      "execution_count": null,
      "outputs": []
    },
    {
      "cell_type": "code",
      "source": [
        "# Combine features for better training of the final model\n",
        "train_full_features = np.concatenate([train_features, val_features], axis=0)\n",
        "\n",
        "# Combine labels for better training of the final model\n",
        "train_full_labels = np.concatenate([train_labels, val_labels], axis=0)\n"
      ],
      "metadata": {
        "id": "kMjeL6xXMyqE"
      },
      "execution_count": null,
      "outputs": []
    },
    {
      "cell_type": "markdown",
      "source": [
        "# Evaluates the Final SVM Model"
      ],
      "metadata": {
        "id": "E2MqvFEfws22"
      }
    },
    {
      "cell_type": "code",
      "source": [
        "from sklearn.metrics import confusion_matrix, ConfusionMatrixDisplay\n",
        "import matplotlib.pyplot as plt\n",
        "\n",
        "ordered_labels = list(range(9))  # ensures a 9x9 matrix in order\n",
        "class_names = [index_to_label[i] for i in ordered_labels]\n",
        "\n",
        "# Predict on test set\n",
        "test_pred = final_svm.predict(test_features)\n",
        "\n",
        "# Compute confusion matrix with fixed label size\n",
        "cm = confusion_matrix(test_labels, test_pred, labels=ordered_labels)\n",
        "\n",
        "# Plots the matrix\n",
        "fig, ax = plt.subplots(figsize=(8, 8))\n",
        "disp = ConfusionMatrixDisplay(confusion_matrix=cm, display_labels=class_names)\n",
        "disp.plot(ax=ax, cmap='Blues', values_format='d', colorbar=False)\n",
        "ax.set_title('Confusion Matrix (Counts) - SVM Classifier')\n",
        "plt.tight_layout()\n",
        "plt.show()\n",
        "\n"
      ],
      "metadata": {
        "colab": {
          "base_uri": "https://localhost:8080/",
          "height": 807
        },
        "id": "dzCaGkWa6Aa0",
        "outputId": "6955a097-7475-4b13-bf6a-393fd7ffee5a"
      },
      "execution_count": null,
      "outputs": [
        {
          "output_type": "display_data",
          "data": {
            "text/plain": [
              "<Figure size 800x800 with 1 Axes>"
            ],
            "image/png": "[encoded data removed]"
          },
          "metadata": {}
        }
      ]
    },
    {
      "cell_type": "code",
      "source": [
        "from sklearn.metrics import classification_report, f1_score, confusion_matrix\n",
        "import numpy as np\n",
        "\n",
        "def eval_linear_svc(clf, X_test, y_test, label_names=None):\n",
        "\n",
        "    X_test = X_test.cpu().numpy()\n",
        "    y_test = y_test.cpu().numpy()\n",
        "\n",
        "    y_pred = clf.predict(X_test)\n",
        "\n",
        "    # Weighted F1\n",
        "    f1_w = f1_score(y_test, y_pred, average='weighted')\n",
        "    print(f\"Weighted Average F1 Score: {f1_w:.4f}\\n\")\n",
        "\n",
        "    # Classification report\n",
        "    if label_names is not None:\n",
        "        # Ensure labels are in the right order\n",
        "        labels = list(range(len(label_names)))\n",
        "        print(\"Full Classification Report:\")\n",
        "        print(classification_report(\n",
        "            y_test, y_pred,\n",
        "            labels=labels,\n",
        "            target_names=label_names,\n",
        "            digits=4,\n",
        "            zero_division=0\n",
        "        ))\n",
        "    else:\n",
        "        print(\"Full Classification Report:\")\n",
        "        print(classification_report(y_test, y_pred, digits=4, zero_division=0))\n",
        "\n",
        "\n",
        "eval_linear_svc(final_svm, test_features, test_labels, classes)\n"
      ],
      "metadata": {
        "colab": {
          "base_uri": "https://localhost:8080/"
        },
        "id": "gng4iKdkk8Ea",
        "outputId": "22d5f4c1-e0c7-4aff-9250-bb3ebcda557b"
      },
      "execution_count": null,
      "outputs": [
        {
          "output_type": "stream",
          "name": "stdout",
          "text": [
            "Weighted Average F1 Score: 0.6078\n",
            "\n",
            "Full Classification Report:\n",
            "              precision    recall  f1-score   support\n",
            "\n",
            "         MEL     0.5599    0.4402    0.4929       552\n",
            "          NV     0.7964    0.8111    0.8037      1615\n",
            "         BCC     0.4524    0.4822    0.4668       394\n",
            "          AK     0.1814    0.3981    0.2492       103\n",
            "         BKL     0.3632    0.2110    0.2669       327\n",
            "          DF     0.0741    0.2069    0.1091        29\n",
            "        VASC     0.4286    0.6000    0.5000        30\n",
            "         SCC     0.1818    0.2105    0.1951        76\n",
            "         UNK     0.0000    0.0000    0.0000         0\n",
            "\n",
            "    accuracy                         0.6056      3126\n",
            "   macro avg     0.3375    0.3733    0.3426      3126\n",
            "weighted avg     0.6205    0.6056    0.6078      3126\n",
            "\n"
          ]
        }
      ]
    },
    {
      "cell_type": "code",
      "source": [
        "import numpy as np\n",
        "import matplotlib.pyplot as plt\n",
        "\n",
        "def confidence_distribution(clf, X_test, y_test):\n",
        "\n",
        "    X_test = X_test.cpu().numpy();\n",
        "    y_test = y_test.cpu().numpy()\n",
        "\n",
        "    # Predictions\n",
        "    y_pred = clf.predict(X_test)\n",
        "\n",
        "\n",
        "    # Decision scores\n",
        "    scores = clf.decision_function(X_test)\n",
        "\n",
        "    # Take the score for the predicted class and normalize with softmax\n",
        "    from scipy.special import softmax\n",
        "    probs_like = softmax(scores, axis=1)\n",
        "    confidences = np.max(probs_like, axis=1)  # Highest class score per sample\n",
        "\n",
        "    # Split correct vs incorrect\n",
        "    correct_conf = confidences[y_pred == y_test]\n",
        "    incorrect_conf = confidences[y_pred != y_test]\n",
        "\n",
        "    # Plot the graph\n",
        "    plt.hist(correct_conf, bins=20, alpha=0.7, label='Correct')\n",
        "    plt.hist(incorrect_conf, bins=20, alpha=0.7, label='Incorrect')\n",
        "    plt.xlabel('Confidence')\n",
        "    plt.ylabel('Number of Samples')\n",
        "    plt.title('Confidence Distribution')\n",
        "    plt.legend()\n",
        "    plt.show()\n",
        "\n",
        "    return correct_conf, incorrect_conf\n",
        "\n",
        "correct_conf, incorrect_conf = confidence_distribution(final_svm, test_features, test_labels)\n"
      ],
      "metadata": {
        "colab": {
          "base_uri": "https://localhost:8080/",
          "height": 472
        },
        "id": "0voF3nihmEtZ",
        "outputId": "a44ab4ba-0f0f-4812-da90-1659777ccd6f"
      },
      "execution_count": null,
      "outputs": [
        {
          "output_type": "display_data",
          "data": {
            "text/plain": [
              "<Figure size 640x480 with 1 Axes>"
            ],
            "image/png": "[encoded data removed]"
          },
          "metadata": {}
        }
      ]
    }
  ]
}